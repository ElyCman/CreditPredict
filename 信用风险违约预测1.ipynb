{
 "cells": [
  {
   "cell_type": "code",
   "execution_count": 1,
   "metadata": {},
   "outputs": [],
   "source": [
    "from IPython.core.interactiveshell import InteractiveShell\n",
    "InteractiveShell.ast_node_interactivity = 'all'"
   ]
  },
  {
   "cell_type": "markdown",
   "metadata": {},
   "source": [
    "# 开始"
   ]
  },
  {
   "cell_type": "code",
   "execution_count": 41,
   "metadata": {},
   "outputs": [],
   "source": [
    "import pandas as pd\n",
    "import numpy as np\n",
    "import matplotlib.pyplot as plt\n",
    "plt.rcParams['font.sans-serif'] = ['SimHei']\n",
    "plt.rcParams['axes.unicode_minus'] = False\n",
    "import seaborn as sns\n",
    "import warnings\n",
    "warnings.filterwarnings('ignore')\n",
    "\n",
    "from sklearn.model_selection import train_test_split, GridSearchCV\n",
    "from sklearn.metrics import classification_report\n",
    "import scikitplot as skplt\n",
    "from sklearn.metrics import roc_auc_score\n",
    "from sklearn.metrics import accuracy_score\n",
    "from sklearn.ensemble import RandomForestClassifier\n",
    "from sklearn.model_selection import cross_val_score\n",
    "from sklearn.tree import DecisionTreeClassifier\n",
    "from sklearn.svm import SVC\n",
    "from sklearn.metrics import f1_score, precision_score, recall_score\n",
    "from sklearn.linear_model import LogisticRegression "
   ]
  },
  {
   "cell_type": "markdown",
   "metadata": {},
   "source": [
    "# 导入数据"
   ]
  },
  {
   "cell_type": "code",
   "execution_count": 3,
   "metadata": {},
   "outputs": [],
   "source": [
    "bank_detail_train = pd.read_table('./bank_detail_train.txt'\n",
    "                                  ,sep=','\n",
    "                                  ,header=None\n",
    "                                  ,names=['user_id'\n",
    "                                          ,'tran_time_stamp'\n",
    "                                          ,'tran_type'\n",
    "                                          ,'tran_amount'\n",
    "                                          ,'salary_label'\n",
    "                                         ]\n",
    "                                 )\n",
    "user_info_train = pd.read_table('./user_info_train.txt'\n",
    "                                ,sep=','\n",
    "                                ,header=None\n",
    "                                ,names=['user_id'\n",
    "                                        ,'gender'\n",
    "                                        ,'occupation'\n",
    "                                        ,'education'\n",
    "                                        ,'married'\n",
    "                                        ,'hukou'\n",
    "                                       ]\n",
    "                               )\n",
    "bill_detail_train = pd.read_table('./bill_detail_train.txt'\n",
    "                                  ,sep=','\n",
    "                                  ,header=None\n",
    "                                  ,names=['user_id'\n",
    "                                          ,'bill_time_stamp'\n",
    "                                          ,'bank_id'\n",
    "                                          ,'previous_bill_amount'\n",
    "                                          ,'previous_repay_amount'\n",
    "                                          ,'credit_amount'\n",
    "                                          ,'current_bill_balance'\n",
    "                                          ,'current_bill_lowest_repay_amount'\n",
    "                                          ,'frequency_consumption'\n",
    "                                          ,'current_bill_amount'\n",
    "                                          ,'adjust_amount'\n",
    "                                          ,'cycle_interst'\n",
    "                                          ,'available_balance'\n",
    "                                          ,'cash_advance_limit'\n",
    "                                          ,'repay_status'\n",
    "                                         ]\n",
    "                                )\n",
    "browse_history_train = pd.read_table('./browse_history_train.txt'\n",
    "                                    ,sep=','\n",
    "                                    ,header=None\n",
    "                                    ,names=['user_id'\n",
    "                                            ,'browse_time_stamp'\n",
    "                                            ,'browse_behavior'\n",
    "                                            ,'browse_sub_behavior_num'\n",
    "                                           ]\n",
    "                                    )\n",
    "loan_time_train = pd.read_table('./loan_time_train.txt'\n",
    "                               ,sep=','\n",
    "                               ,header=None\n",
    "                               ,names=['user_id', 'loan_time']\n",
    "                               )\n",
    "overdue_train = pd.read_table('./overdue_train.txt'\n",
    "                             ,sep=','\n",
    "                             ,header=None\n",
    "                             ,names=['user_id', 'overdue_label']\n",
    "                             )"
   ]
  },
  {
   "cell_type": "code",
   "execution_count": 4,
   "metadata": {},
   "outputs": [],
   "source": [
    "bank_1 = bank_detail_train.copy()\n",
    "bill_1 = bill_detail_train.copy()\n",
    "user_1 = user_info_train.copy()\n",
    "browse_1 = browse_history_train.copy()\n",
    "loan_1 = loan_time_train.copy()\n",
    "overdue_1 = overdue_train.copy()"
   ]
  },
  {
   "cell_type": "markdown",
   "metadata": {},
   "source": [
    "# 初步探索"
   ]
  },
  {
   "cell_type": "markdown",
   "metadata": {},
   "source": [
    "## 缺失值"
   ]
  },
  {
   "cell_type": "code",
   "execution_count": 18,
   "metadata": {},
   "outputs": [
    {
     "data": {
      "text/plain": [
       "user_id            0.0\n",
       "tran_time_stamp    0.0\n",
       "tran_type          0.0\n",
       "tran_amount        0.0\n",
       "salary_label       0.0\n",
       "dtype: float64"
      ]
     },
     "execution_count": 18,
     "metadata": {},
     "output_type": "execute_result"
    }
   ],
   "source": [
    "# 总体数据缺失否\n",
    "bank_1.isnull().mean()"
   ]
  },
  {
   "cell_type": "code",
   "execution_count": 19,
   "metadata": {},
   "outputs": [
    {
     "data": {
      "text/plain": [
       "0.006387436849248879"
      ]
     },
     "execution_count": 19,
     "metadata": {},
     "output_type": "execute_result"
    }
   ],
   "source": [
    "# 交易时间戳为0表示未知,查看比率\n",
    "bank_1[bank_1['tran_time_stamp'] == 0].shape[0] / bank_1.shape[0]"
   ]
  },
  {
   "cell_type": "markdown",
   "metadata": {},
   "source": [
    "## 删除时间戳为0的记录"
   ]
  },
  {
   "cell_type": "code",
   "execution_count": 5,
   "metadata": {},
   "outputs": [],
   "source": [
    "ind = bank_1[bank_1['tran_time_stamp'] == 0].index\n",
    "bank_1.drop(labels=ind, axis=0, inplace=True)"
   ]
  },
  {
   "cell_type": "markdown",
   "metadata": {},
   "source": [
    "## 删除重复记录"
   ]
  },
  {
   "cell_type": "code",
   "execution_count": 21,
   "metadata": {},
   "outputs": [
    {
     "name": "stdout",
     "output_type": "stream",
     "text": [
      "银行流水是有重复记录: True\n"
     ]
    }
   ],
   "source": [
    "print('银行流水是有重复记录:', any(bank_1.duplicated()))"
   ]
  },
  {
   "cell_type": "code",
   "execution_count": 22,
   "metadata": {},
   "outputs": [
    {
     "name": "stdout",
     "output_type": "stream",
     "text": [
      "原数据记录条数: 6031424\n",
      "重复记录条数: 796944\n"
     ]
    }
   ],
   "source": [
    "print('原数据记录条数:', bank_1.shape[0])\n",
    "\n",
    "# 重复记录数\n",
    "print('重复记录条数:', bank_1[bank_1.duplicated()].shape[0])"
   ]
  },
  {
   "cell_type": "code",
   "execution_count": 24,
   "metadata": {},
   "outputs": [
    {
     "name": "stdout",
     "output_type": "stream",
     "text": [
      "删除后记录条数: 5234480\n"
     ]
    }
   ],
   "source": [
    "bank_1.drop_duplicates(inplace=True)\n",
    "# 删除\n",
    "print('删除后记录条数:', bank_1.shape[0])"
   ]
  },
  {
   "cell_type": "code",
   "execution_count": 25,
   "metadata": {},
   "outputs": [
    {
     "data": {
      "text/plain": [
       "True"
      ]
     },
     "execution_count": 25,
     "metadata": {},
     "output_type": "execute_result"
    },
    {
     "data": {
      "text/plain": [
       "False"
      ]
     },
     "execution_count": 25,
     "metadata": {},
     "output_type": "execute_result"
    },
    {
     "data": {
      "text/plain": [
       "True"
      ]
     },
     "execution_count": 25,
     "metadata": {},
     "output_type": "execute_result"
    },
    {
     "data": {
      "text/plain": [
       "False"
      ]
     },
     "execution_count": 25,
     "metadata": {},
     "output_type": "execute_result"
    },
    {
     "data": {
      "text/plain": [
       "False"
      ]
     },
     "execution_count": 25,
     "metadata": {},
     "output_type": "execute_result"
    }
   ],
   "source": [
    "# 其他表作同样操作\n",
    "# bill_1  \n",
    "# user_1  \n",
    "# browse_1   \n",
    "# loan_1 \n",
    "# overdue_1  \n",
    "\n",
    "any(bill_1.duplicated())\n",
    "any(user_1.duplicated())\n",
    "any(browse_1.duplicated())\n",
    "any(loan_1.duplicated())\n",
    "any(overdue_1.duplicated())"
   ]
  },
  {
   "cell_type": "code",
   "execution_count": 6,
   "metadata": {},
   "outputs": [],
   "source": [
    "bill_1.drop_duplicates(inplace=True)\n",
    "browse_1.drop_duplicates(inplace=True)"
   ]
  },
  {
   "cell_type": "code",
   "execution_count": 7,
   "metadata": {},
   "outputs": [
    {
     "data": {
      "text/plain": [
       "0.1960538376187949"
      ]
     },
     "execution_count": 7,
     "metadata": {},
     "output_type": "execute_result"
    }
   ],
   "source": [
    "# bill的时间戳为0占比为20%，不做删除处理\n",
    "bill_1[bill_1['bill_time_stamp'] == 0].shape[0] / bill_1.shape[0]"
   ]
  },
  {
   "cell_type": "markdown",
   "metadata": {},
   "source": [
    "## 各表用户数"
   ]
  },
  {
   "cell_type": "code",
   "execution_count": 28,
   "metadata": {},
   "outputs": [
    {
     "name": "stdout",
     "output_type": "stream",
     "text": [
      "用户表的用户数： 55596 银行流水表的用户数： 9294 账单表的用户数： 53174 浏览表用户数： 47330 放款表用户数： 55596 逾期表用户数： 55596\n"
     ]
    }
   ],
   "source": [
    "# 银行流水用户的数据最齐全\n",
    "\n",
    "print('用户表的用户数：', user_1['user_id'].nunique()\n",
    "     ,'银行流水表的用户数：', bank_1['user_id'].nunique()\n",
    "     ,'账单表的用户数：', bill_1['user_id'].nunique()\n",
    "     ,'浏览表用户数：', browse_1['user_id'].nunique()\n",
    "     ,'放款表用户数：', loan_1['user_id'].nunique()\n",
    "     ,'逾期表用户数：', overdue_1['user_id'].nunique())"
   ]
  },
  {
   "cell_type": "markdown",
   "metadata": {},
   "source": [
    "# 数据清洗"
   ]
  },
  {
   "cell_type": "code",
   "execution_count": 7,
   "metadata": {},
   "outputs": [
    {
     "data": {
      "text/plain": [
       "Index(['user_id', 'tran_time_stamp', 'tran_type', 'tran_amount',\n",
       "       'salary_label', 'loan_time'],\n",
       "      dtype='object')"
      ]
     },
     "execution_count": 7,
     "metadata": {},
     "output_type": "execute_result"
    },
    {
     "data": {
      "text/plain": [
       "(6031424, 6)"
      ]
     },
     "execution_count": 7,
     "metadata": {},
     "output_type": "execute_result"
    }
   ],
   "source": [
    "# 利用放款时间表对用户做一个筛选\n",
    "bank_2 = pd.merge(bank_1, loan_1, how='inner', on='user_id')\n",
    "bank_2.columns\n",
    "bank_2.shape"
   ]
  },
  {
   "cell_type": "code",
   "execution_count": 8,
   "metadata": {},
   "outputs": [
    {
     "data": {
      "text/plain": [
       "(5632004, 6)"
      ]
     },
     "execution_count": 8,
     "metadata": {},
     "output_type": "execute_result"
    }
   ],
   "source": [
    "bank_2 = bank_2[bank_2['tran_time_stamp'] < bank_2['loan_time']]\n",
    "bank_2.shape"
   ]
  },
  {
   "cell_type": "code",
   "execution_count": 9,
   "metadata": {},
   "outputs": [],
   "source": [
    "# 其它表做同样的操作\n",
    "bill_2 = pd.merge(bill_1, loan_1, how='inner', on='user_id')\n",
    "bill_2 = bill_2[bill_2['bill_time_stamp'] < bill_2['loan_time']]\n",
    "\n",
    "browse_2 = pd.merge(browse_1, loan_1, how='inner', on='user_id')\n",
    "browse_2 = browse_2[browse_2['browse_time_stamp'] < browse_2['loan_time']]\n",
    "\n",
    "user_2 = user_1.copy()\n",
    "overdue_2 = overdue_1.copy()"
   ]
  },
  {
   "cell_type": "code",
   "execution_count": 35,
   "metadata": {},
   "outputs": [
    {
     "data": {
      "text/plain": [
       "9268"
      ]
     },
     "execution_count": 35,
     "metadata": {},
     "output_type": "execute_result"
    }
   ],
   "source": [
    "bank_2['user_id'].nunique()"
   ]
  },
  {
   "cell_type": "markdown",
   "metadata": {},
   "source": [
    "## 银行流水"
   ]
  },
  {
   "cell_type": "code",
   "execution_count": 10,
   "metadata": {},
   "outputs": [
    {
     "data": {
      "text/plain": [
       "(9268, 1)"
      ]
     },
     "execution_count": 10,
     "metadata": {},
     "output_type": "execute_result"
    }
   ],
   "source": [
    "# 银行流水用户id\n",
    "bank_user = bank_2[['user_id']]\n",
    "bank_user = bank_user.drop_duplicates(subset='user_id', keep='first')\n",
    "bank_user.shape"
   ]
  },
  {
   "cell_type": "code",
   "execution_count": 38,
   "metadata": {},
   "outputs": [
    {
     "data": {
      "text/html": [
       "<div>\n",
       "<style scoped>\n",
       "    .dataframe tbody tr th:only-of-type {\n",
       "        vertical-align: middle;\n",
       "    }\n",
       "\n",
       "    .dataframe tbody tr th {\n",
       "        vertical-align: top;\n",
       "    }\n",
       "\n",
       "    .dataframe thead th {\n",
       "        text-align: right;\n",
       "    }\n",
       "</style>\n",
       "<table border=\"1\" class=\"dataframe\">\n",
       "  <thead>\n",
       "    <tr style=\"text-align: right;\">\n",
       "      <th></th>\n",
       "      <th>user_id</th>\n",
       "      <th>tran_time_stamp</th>\n",
       "      <th>tran_type</th>\n",
       "      <th>tran_amount</th>\n",
       "      <th>salary_label</th>\n",
       "      <th>loan_time</th>\n",
       "    </tr>\n",
       "  </thead>\n",
       "  <tbody>\n",
       "    <tr>\n",
       "      <th>0</th>\n",
       "      <td>6965</td>\n",
       "      <td>5894316387</td>\n",
       "      <td>0</td>\n",
       "      <td>13.756664</td>\n",
       "      <td>0</td>\n",
       "      <td>5923841487</td>\n",
       "    </tr>\n",
       "    <tr>\n",
       "      <th>1</th>\n",
       "      <td>6965</td>\n",
       "      <td>5894321388</td>\n",
       "      <td>1</td>\n",
       "      <td>13.756664</td>\n",
       "      <td>0</td>\n",
       "      <td>5923841487</td>\n",
       "    </tr>\n",
       "    <tr>\n",
       "      <th>2</th>\n",
       "      <td>6965</td>\n",
       "      <td>5897553564</td>\n",
       "      <td>0</td>\n",
       "      <td>14.449810</td>\n",
       "      <td>0</td>\n",
       "      <td>5923841487</td>\n",
       "    </tr>\n",
       "    <tr>\n",
       "      <th>3</th>\n",
       "      <td>6965</td>\n",
       "      <td>5897563463</td>\n",
       "      <td>1</td>\n",
       "      <td>10.527763</td>\n",
       "      <td>0</td>\n",
       "      <td>5923841487</td>\n",
       "    </tr>\n",
       "    <tr>\n",
       "      <th>4</th>\n",
       "      <td>6965</td>\n",
       "      <td>5897564598</td>\n",
       "      <td>1</td>\n",
       "      <td>13.651303</td>\n",
       "      <td>0</td>\n",
       "      <td>5923841487</td>\n",
       "    </tr>\n",
       "  </tbody>\n",
       "</table>\n",
       "</div>"
      ],
      "text/plain": [
       "   user_id  tran_time_stamp  tran_type  tran_amount  salary_label   loan_time\n",
       "0     6965       5894316387          0    13.756664             0  5923841487\n",
       "1     6965       5894321388          1    13.756664             0  5923841487\n",
       "2     6965       5897553564          0    14.449810             0  5923841487\n",
       "3     6965       5897563463          1    10.527763             0  5923841487\n",
       "4     6965       5897564598          1    13.651303             0  5923841487"
      ]
     },
     "execution_count": 38,
     "metadata": {},
     "output_type": "execute_result"
    }
   ],
   "source": [
    "bank_2.head()"
   ]
  },
  {
   "cell_type": "markdown",
   "metadata": {},
   "source": [
    "### 银行特征创建"
   ]
  },
  {
   "cell_type": "code",
   "execution_count": 11,
   "metadata": {},
   "outputs": [
    {
     "data": {
      "text/html": [
       "<div>\n",
       "<style scoped>\n",
       "    .dataframe tbody tr th:only-of-type {\n",
       "        vertical-align: middle;\n",
       "    }\n",
       "\n",
       "    .dataframe tbody tr th {\n",
       "        vertical-align: top;\n",
       "    }\n",
       "\n",
       "    .dataframe thead th {\n",
       "        text-align: right;\n",
       "    }\n",
       "</style>\n",
       "<table border=\"1\" class=\"dataframe\">\n",
       "  <thead>\n",
       "    <tr style=\"text-align: right;\">\n",
       "      <th></th>\n",
       "      <th>user_id</th>\n",
       "      <th>income_sum</th>\n",
       "      <th>income_cnt</th>\n",
       "      <th>income_avg</th>\n",
       "    </tr>\n",
       "  </thead>\n",
       "  <tbody>\n",
       "    <tr>\n",
       "      <th>0</th>\n",
       "      <td>1</td>\n",
       "      <td>480.692762</td>\n",
       "      <td>35</td>\n",
       "      <td>13.734079</td>\n",
       "    </tr>\n",
       "    <tr>\n",
       "      <th>1</th>\n",
       "      <td>3</td>\n",
       "      <td>1715.933526</td>\n",
       "      <td>139</td>\n",
       "      <td>12.344846</td>\n",
       "    </tr>\n",
       "    <tr>\n",
       "      <th>2</th>\n",
       "      <td>4</td>\n",
       "      <td>928.506655</td>\n",
       "      <td>82</td>\n",
       "      <td>11.323252</td>\n",
       "    </tr>\n",
       "    <tr>\n",
       "      <th>3</th>\n",
       "      <td>9</td>\n",
       "      <td>152.871054</td>\n",
       "      <td>11</td>\n",
       "      <td>13.897369</td>\n",
       "    </tr>\n",
       "    <tr>\n",
       "      <th>4</th>\n",
       "      <td>10</td>\n",
       "      <td>890.532428</td>\n",
       "      <td>70</td>\n",
       "      <td>12.721892</td>\n",
       "    </tr>\n",
       "  </tbody>\n",
       "</table>\n",
       "</div>"
      ],
      "text/plain": [
       "   user_id   income_sum  income_cnt  income_avg\n",
       "0        1   480.692762          35   13.734079\n",
       "1        3  1715.933526         139   12.344846\n",
       "2        4   928.506655          82   11.323252\n",
       "3        9   152.871054          11   13.897369\n",
       "4       10   890.532428          70   12.721892"
      ]
     },
     "execution_count": 11,
     "metadata": {},
     "output_type": "execute_result"
    }
   ],
   "source": [
    "# 收入\n",
    "gb1 = bank_2[bank_2['tran_type'] == 0].groupby(['user_id'], as_index=False)\n",
    "income = gb1['tran_amount'].agg({'income_sum': 'sum', 'income_cnt': 'count'})\n",
    "income['income_avg'] = income['income_sum'] / income['income_cnt']\n",
    "income.head()"
   ]
  },
  {
   "cell_type": "code",
   "execution_count": 12,
   "metadata": {},
   "outputs": [
    {
     "data": {
      "image/png": "[encoded data removed]",
      "text/plain": [
       "<Figure size 1152x360 with 2 Axes>"
      ]
     },
     "metadata": {
      "needs_background": "light"
     },
     "output_type": "display_data"
    }
   ],
   "source": [
    "# 均收入的分布情况\n",
    "plt.figure()\n",
    "plt.subplot(121)\n",
    "sns.distplot(income['income_avg']);\n",
    "plt.subplot(122)\n",
    "income['income_avg'].plot.box(figsize=(16,5))\n",
    "plt.show();"
   ]
  },
  {
   "cell_type": "code",
   "execution_count": 13,
   "metadata": {},
   "outputs": [
    {
     "data": {
      "image/png": "[encoded data removed]",
      "text/plain": [
       "<Figure size 1152x360 with 2 Axes>"
      ]
     },
     "metadata": {
      "needs_background": "light"
     },
     "output_type": "display_data"
    }
   ],
   "source": [
    "# 支出\n",
    "gb2 = bank_2[bank_2['tran_type'] == 1].groupby(['user_id'], as_index=False)\n",
    "export = gb2['tran_amount'].agg({'export_sum': 'sum', 'export_cnt': 'count'})\n",
    "export['export_avg'] = export['export_sum'] / export['export_cnt']\n",
    "\n",
    "# 均收入的分布情况\n",
    "plt.figure()\n",
    "plt.subplot(121)\n",
    "sns.distplot(export['export_avg']);\n",
    "plt.subplot(122)\n",
    "export['export_avg'].plot.box(figsize=(16,5))\n",
    "plt.show();"
   ]
  },
  {
   "cell_type": "code",
   "execution_count": 14,
   "metadata": {},
   "outputs": [
    {
     "data": {
      "image/png": "[encoded data removed]",
      "text/plain": [
       "<Figure size 1152x360 with 2 Axes>"
      ]
     },
     "metadata": {
      "needs_background": "light"
     },
     "output_type": "display_data"
    }
   ],
   "source": [
    "# 工资收入\n",
    "gb3 = bank_2[bank_2['salary_label'] == 1].groupby(['user_id'], as_index=False)\n",
    "wage = gb3['tran_amount'].agg({'wage_income_sum': 'sum', 'wage_income_cnt': 'count'})\n",
    "wage['wage_income_avg'] = wage['wage_income_sum'] / wage['wage_income_cnt']\n",
    "\n",
    "# 工资收入的分布情况\n",
    "plt.figure()\n",
    "plt.subplot(121)\n",
    "sns.distplot(wage['wage_income_avg']);\n",
    "plt.subplot(122)\n",
    "wage['wage_income_avg'].plot.box(figsize=(16,5))\n",
    "plt.show();"
   ]
  },
  {
   "cell_type": "code",
   "execution_count": 58,
   "metadata": {},
   "outputs": [
    {
     "data": {
      "text/plain": [
       "7.374849390401766"
      ]
     },
     "execution_count": 58,
     "metadata": {},
     "output_type": "execute_result"
    },
    {
     "data": {
      "text/plain": [
       "(44, 4)"
      ]
     },
     "execution_count": 58,
     "metadata": {},
     "output_type": "execute_result"
    }
   ],
   "source": [
    "\n",
    "xbar = wage.wage_income_avg.mean()\n",
    "xstd = wage.wage_income_avg.std()\n",
    "t = xbar - 3 * xstd\n",
    "t\n",
    "wage[wage['wage_income_avg'] < t].shape\n",
    "\n",
    "# 44个id，可以不做处理"
   ]
  },
  {
   "cell_type": "code",
   "execution_count": 15,
   "metadata": {},
   "outputs": [
    {
     "data": {
      "text/html": [
       "<div>\n",
       "<style scoped>\n",
       "    .dataframe tbody tr th:only-of-type {\n",
       "        vertical-align: middle;\n",
       "    }\n",
       "\n",
       "    .dataframe tbody tr th {\n",
       "        vertical-align: top;\n",
       "    }\n",
       "\n",
       "    .dataframe thead th {\n",
       "        text-align: right;\n",
       "    }\n",
       "</style>\n",
       "<table border=\"1\" class=\"dataframe\">\n",
       "  <thead>\n",
       "    <tr style=\"text-align: right;\">\n",
       "      <th></th>\n",
       "      <th>user_id</th>\n",
       "      <th>income_sum</th>\n",
       "      <th>income_cnt</th>\n",
       "      <th>income_avg</th>\n",
       "      <th>export_sum</th>\n",
       "      <th>export_cnt</th>\n",
       "      <th>export_avg</th>\n",
       "      <th>wage_income_sum</th>\n",
       "      <th>wage_income_cnt</th>\n",
       "      <th>wage_income_avg</th>\n",
       "    </tr>\n",
       "  </thead>\n",
       "  <tbody>\n",
       "    <tr>\n",
       "      <th>0</th>\n",
       "      <td>6965</td>\n",
       "      <td>972.850228</td>\n",
       "      <td>75.0</td>\n",
       "      <td>12.971336</td>\n",
       "      <td>3222.384745</td>\n",
       "      <td>288.0</td>\n",
       "      <td>11.188836</td>\n",
       "      <td>0.000000</td>\n",
       "      <td>0.0</td>\n",
       "      <td>0.000000</td>\n",
       "    </tr>\n",
       "    <tr>\n",
       "      <th>1</th>\n",
       "      <td>1265</td>\n",
       "      <td>1695.142678</td>\n",
       "      <td>124.0</td>\n",
       "      <td>13.670505</td>\n",
       "      <td>3610.695042</td>\n",
       "      <td>290.0</td>\n",
       "      <td>12.450673</td>\n",
       "      <td>0.000000</td>\n",
       "      <td>0.0</td>\n",
       "      <td>0.000000</td>\n",
       "    </tr>\n",
       "    <tr>\n",
       "      <th>2</th>\n",
       "      <td>2583</td>\n",
       "      <td>2736.475318</td>\n",
       "      <td>213.0</td>\n",
       "      <td>12.847302</td>\n",
       "      <td>7064.310678</td>\n",
       "      <td>618.0</td>\n",
       "      <td>11.430923</td>\n",
       "      <td>0.000000</td>\n",
       "      <td>0.0</td>\n",
       "      <td>0.000000</td>\n",
       "    </tr>\n",
       "    <tr>\n",
       "      <th>3</th>\n",
       "      <td>29165</td>\n",
       "      <td>2250.094479</td>\n",
       "      <td>187.0</td>\n",
       "      <td>12.032591</td>\n",
       "      <td>5063.039288</td>\n",
       "      <td>470.0</td>\n",
       "      <td>10.772424</td>\n",
       "      <td>202.630532</td>\n",
       "      <td>14.0</td>\n",
       "      <td>14.473609</td>\n",
       "    </tr>\n",
       "    <tr>\n",
       "      <th>4</th>\n",
       "      <td>2443</td>\n",
       "      <td>3020.288782</td>\n",
       "      <td>252.0</td>\n",
       "      <td>11.985273</td>\n",
       "      <td>3762.790364</td>\n",
       "      <td>341.0</td>\n",
       "      <td>11.034576</td>\n",
       "      <td>0.000000</td>\n",
       "      <td>0.0</td>\n",
       "      <td>0.000000</td>\n",
       "    </tr>\n",
       "  </tbody>\n",
       "</table>\n",
       "</div>"
      ],
      "text/plain": [
       "   user_id   income_sum  income_cnt  income_avg   export_sum  export_cnt  \\\n",
       "0     6965   972.850228        75.0   12.971336  3222.384745       288.0   \n",
       "1     1265  1695.142678       124.0   13.670505  3610.695042       290.0   \n",
       "2     2583  2736.475318       213.0   12.847302  7064.310678       618.0   \n",
       "3    29165  2250.094479       187.0   12.032591  5063.039288       470.0   \n",
       "4     2443  3020.288782       252.0   11.985273  3762.790364       341.0   \n",
       "\n",
       "   export_avg  wage_income_sum  wage_income_cnt  wage_income_avg  \n",
       "0   11.188836         0.000000              0.0         0.000000  \n",
       "1   12.450673         0.000000              0.0         0.000000  \n",
       "2   11.430923         0.000000              0.0         0.000000  \n",
       "3   10.772424       202.630532             14.0        14.473609  \n",
       "4   11.034576         0.000000              0.0         0.000000  "
      ]
     },
     "execution_count": 15,
     "metadata": {},
     "output_type": "execute_result"
    }
   ],
   "source": [
    "# \n",
    "\n",
    "bank_3 = pd.merge(bank_user, income, how='left', on='user_id')\n",
    "bank_3 = pd.merge(bank_3, export, how='left', on='user_id')\n",
    "bank_3 = pd.merge(bank_3, wage, how='left', on='user_id')\n",
    "bank_3.fillna(0, inplace=True)\n",
    "bank_3.head()"
   ]
  },
  {
   "cell_type": "code",
   "execution_count": 16,
   "metadata": {},
   "outputs": [
    {
     "data": {
      "text/plain": [
       "(9268, 10)"
      ]
     },
     "execution_count": 16,
     "metadata": {},
     "output_type": "execute_result"
    },
    {
     "data": {
      "text/html": [
       "<div>\n",
       "<style scoped>\n",
       "    .dataframe tbody tr th:only-of-type {\n",
       "        vertical-align: middle;\n",
       "    }\n",
       "\n",
       "    .dataframe tbody tr th {\n",
       "        vertical-align: top;\n",
       "    }\n",
       "\n",
       "    .dataframe thead th {\n",
       "        text-align: right;\n",
       "    }\n",
       "</style>\n",
       "<table border=\"1\" class=\"dataframe\">\n",
       "  <thead>\n",
       "    <tr style=\"text-align: right;\">\n",
       "      <th></th>\n",
       "      <th>user_id</th>\n",
       "      <th>income_avg</th>\n",
       "      <th>export_avg</th>\n",
       "      <th>wage_income_avg</th>\n",
       "    </tr>\n",
       "  </thead>\n",
       "  <tbody>\n",
       "    <tr>\n",
       "      <th>0</th>\n",
       "      <td>6965</td>\n",
       "      <td>12.971336</td>\n",
       "      <td>11.188836</td>\n",
       "      <td>0.000000</td>\n",
       "    </tr>\n",
       "    <tr>\n",
       "      <th>1</th>\n",
       "      <td>1265</td>\n",
       "      <td>13.670505</td>\n",
       "      <td>12.450673</td>\n",
       "      <td>0.000000</td>\n",
       "    </tr>\n",
       "    <tr>\n",
       "      <th>2</th>\n",
       "      <td>2583</td>\n",
       "      <td>12.847302</td>\n",
       "      <td>11.430923</td>\n",
       "      <td>0.000000</td>\n",
       "    </tr>\n",
       "    <tr>\n",
       "      <th>3</th>\n",
       "      <td>29165</td>\n",
       "      <td>12.032591</td>\n",
       "      <td>10.772424</td>\n",
       "      <td>14.473609</td>\n",
       "    </tr>\n",
       "    <tr>\n",
       "      <th>4</th>\n",
       "      <td>2443</td>\n",
       "      <td>11.985273</td>\n",
       "      <td>11.034576</td>\n",
       "      <td>0.000000</td>\n",
       "    </tr>\n",
       "  </tbody>\n",
       "</table>\n",
       "</div>"
      ],
      "text/plain": [
       "   user_id  income_avg  export_avg  wage_income_avg\n",
       "0     6965   12.971336   11.188836         0.000000\n",
       "1     1265   13.670505   12.450673         0.000000\n",
       "2     2583   12.847302   11.430923         0.000000\n",
       "3    29165   12.032591   10.772424        14.473609\n",
       "4     2443   11.985273   11.034576         0.000000"
      ]
     },
     "execution_count": 16,
     "metadata": {},
     "output_type": "execute_result"
    }
   ],
   "source": [
    "bank_3.shape\n",
    "bank_4 = bank_3.loc[:, ['user_id', 'income_avg', 'export_avg', 'wage_income_avg']]\n",
    "bank_4.head()"
   ]
  },
  {
   "cell_type": "code",
   "execution_count": 16,
   "metadata": {
    "scrolled": true
   },
   "outputs": [
    {
     "data": {
      "text/plain": [
       "(9268, 4)"
      ]
     },
     "execution_count": 16,
     "metadata": {},
     "output_type": "execute_result"
    }
   ],
   "source": [
    "bank_4.shape"
   ]
  },
  {
   "cell_type": "markdown",
   "metadata": {},
   "source": [
    "### 相关性"
   ]
  },
  {
   "cell_type": "code",
   "execution_count": 17,
   "metadata": {},
   "outputs": [
    {
     "data": {
      "text/plain": [
       "(<Figure size 432x432 with 1 Axes>, <AxesSubplot:>)"
      ]
     },
     "execution_count": 17,
     "metadata": {},
     "output_type": "execute_result"
    },
    {
     "data": {
      "text/plain": [
       "(array([0. , 0.2, 0.4, 0.6, 0.8, 1. ]),\n",
       " [Text(0, 0, ''),\n",
       "  Text(0, 0, ''),\n",
       "  Text(0, 0, ''),\n",
       "  Text(0, 0, ''),\n",
       "  Text(0, 0, ''),\n",
       "  Text(0, 0, '')])"
      ]
     },
     "execution_count": 17,
     "metadata": {},
     "output_type": "execute_result"
    },
    {
     "data": {
      "text/plain": [
       "<AxesSubplot:>"
      ]
     },
     "execution_count": 17,
     "metadata": {},
     "output_type": "execute_result"
    },
    {
     "data": {
      "image/png": "[encoded data removed]",
      "text/plain": [
       "<Figure size 432x432 with 2 Axes>"
      ]
     },
     "metadata": {
      "needs_background": "light"
     },
     "output_type": "display_data"
    }
   ],
   "source": [
    "co = bank_4[['income_avg', 'export_avg', 'wage_income_avg']].corr()\n",
    "plt.subplots(figsize=(6, 6))\n",
    "plt.xticks(rotation='0')\n",
    "sns.heatmap(co, square=False, linewidths=0.5, annot=True)"
   ]
  },
  {
   "cell_type": "code",
   "execution_count": null,
   "metadata": {},
   "outputs": [],
   "source": [
    "# 收入笔均和支出有强相关性！"
   ]
  },
  {
   "cell_type": "markdown",
   "metadata": {},
   "source": [
    "## 浏览表"
   ]
  },
  {
   "cell_type": "code",
   "execution_count": 18,
   "metadata": {},
   "outputs": [
    {
     "data": {
      "text/plain": [
       "(2337478, 1)"
      ]
     },
     "execution_count": 18,
     "metadata": {},
     "output_type": "execute_result"
    },
    {
     "data": {
      "text/plain": [
       "(44945, 1)"
      ]
     },
     "execution_count": 18,
     "metadata": {},
     "output_type": "execute_result"
    }
   ],
   "source": [
    "browse_user = browse_2[['user_id']]\n",
    "browse_user.shape\n",
    "browse_user.drop_duplicates(inplace=True)\n",
    "browse_user.shape"
   ]
  },
  {
   "cell_type": "code",
   "execution_count": 67,
   "metadata": {},
   "outputs": [
    {
     "data": {
      "text/html": [
       "<div>\n",
       "<style scoped>\n",
       "    .dataframe tbody tr th:only-of-type {\n",
       "        vertical-align: middle;\n",
       "    }\n",
       "\n",
       "    .dataframe tbody tr th {\n",
       "        vertical-align: top;\n",
       "    }\n",
       "\n",
       "    .dataframe thead th {\n",
       "        text-align: right;\n",
       "    }\n",
       "</style>\n",
       "<table border=\"1\" class=\"dataframe\">\n",
       "  <thead>\n",
       "    <tr style=\"text-align: right;\">\n",
       "      <th></th>\n",
       "      <th>user_id</th>\n",
       "      <th>browse_time_stamp</th>\n",
       "      <th>browse_behavior</th>\n",
       "      <th>browse_sub_behavior_num</th>\n",
       "      <th>loan_time</th>\n",
       "    </tr>\n",
       "  </thead>\n",
       "  <tbody>\n",
       "    <tr>\n",
       "      <th>0</th>\n",
       "      <td>34801</td>\n",
       "      <td>5926003545</td>\n",
       "      <td>173</td>\n",
       "      <td>1</td>\n",
       "      <td>5929543887</td>\n",
       "    </tr>\n",
       "    <tr>\n",
       "      <th>1</th>\n",
       "      <td>34801</td>\n",
       "      <td>5926003545</td>\n",
       "      <td>164</td>\n",
       "      <td>4</td>\n",
       "      <td>5929543887</td>\n",
       "    </tr>\n",
       "    <tr>\n",
       "      <th>2</th>\n",
       "      <td>34801</td>\n",
       "      <td>5926003545</td>\n",
       "      <td>38</td>\n",
       "      <td>7</td>\n",
       "      <td>5929543887</td>\n",
       "    </tr>\n",
       "    <tr>\n",
       "      <th>3</th>\n",
       "      <td>34801</td>\n",
       "      <td>5926003545</td>\n",
       "      <td>45</td>\n",
       "      <td>1</td>\n",
       "      <td>5929543887</td>\n",
       "    </tr>\n",
       "    <tr>\n",
       "      <th>4</th>\n",
       "      <td>34801</td>\n",
       "      <td>5926003545</td>\n",
       "      <td>110</td>\n",
       "      <td>7</td>\n",
       "      <td>5929543887</td>\n",
       "    </tr>\n",
       "  </tbody>\n",
       "</table>\n",
       "</div>"
      ],
      "text/plain": [
       "   user_id  browse_time_stamp  browse_behavior  browse_sub_behavior_num  \\\n",
       "0    34801         5926003545              173                        1   \n",
       "1    34801         5926003545              164                        4   \n",
       "2    34801         5926003545               38                        7   \n",
       "3    34801         5926003545               45                        1   \n",
       "4    34801         5926003545              110                        7   \n",
       "\n",
       "    loan_time  \n",
       "0  5929543887  \n",
       "1  5929543887  \n",
       "2  5929543887  \n",
       "3  5929543887  \n",
       "4  5929543887  "
      ]
     },
     "execution_count": 67,
     "metadata": {},
     "output_type": "execute_result"
    }
   ],
   "source": [
    "browse_2.head()"
   ]
  },
  {
   "cell_type": "code",
   "execution_count": 19,
   "metadata": {},
   "outputs": [
    {
     "data": {
      "text/html": [
       "<div>\n",
       "<style scoped>\n",
       "    .dataframe tbody tr th:only-of-type {\n",
       "        vertical-align: middle;\n",
       "    }\n",
       "\n",
       "    .dataframe tbody tr th {\n",
       "        vertical-align: top;\n",
       "    }\n",
       "\n",
       "    .dataframe thead th {\n",
       "        text-align: right;\n",
       "    }\n",
       "</style>\n",
       "<table border=\"1\" class=\"dataframe\">\n",
       "  <thead>\n",
       "    <tr style=\"text-align: right;\">\n",
       "      <th></th>\n",
       "      <th>user_id</th>\n",
       "      <th>browse_beh_cnt</th>\n",
       "    </tr>\n",
       "  </thead>\n",
       "  <tbody>\n",
       "    <tr>\n",
       "      <th>0</th>\n",
       "      <td>2</td>\n",
       "      <td>87</td>\n",
       "    </tr>\n",
       "    <tr>\n",
       "      <th>1</th>\n",
       "      <td>3</td>\n",
       "      <td>55</td>\n",
       "    </tr>\n",
       "    <tr>\n",
       "      <th>2</th>\n",
       "      <td>4</td>\n",
       "      <td>47</td>\n",
       "    </tr>\n",
       "    <tr>\n",
       "      <th>3</th>\n",
       "      <td>6</td>\n",
       "      <td>3</td>\n",
       "    </tr>\n",
       "    <tr>\n",
       "      <th>4</th>\n",
       "      <td>7</td>\n",
       "      <td>72</td>\n",
       "    </tr>\n",
       "  </tbody>\n",
       "</table>\n",
       "</div>"
      ],
      "text/plain": [
       "   user_id  browse_beh_cnt\n",
       "0        2              87\n",
       "1        3              55\n",
       "2        4              47\n",
       "3        6               3\n",
       "4        7              72"
      ]
     },
     "execution_count": 19,
     "metadata": {},
     "output_type": "execute_result"
    }
   ],
   "source": [
    "gb = browse_2.groupby(['user_id'], as_index=False)\n",
    "browse_beh = gb['browse_behavior'].agg({'browse_beh_cnt': 'count'})\n",
    "browse_beh.head()"
   ]
  },
  {
   "cell_type": "markdown",
   "metadata": {},
   "source": [
    "### 特征创造"
   ]
  },
  {
   "cell_type": "code",
   "execution_count": 20,
   "metadata": {},
   "outputs": [
    {
     "data": {
      "text/html": [
       "<div>\n",
       "<style scoped>\n",
       "    .dataframe tbody tr th:only-of-type {\n",
       "        vertical-align: middle;\n",
       "    }\n",
       "\n",
       "    .dataframe tbody tr th {\n",
       "        vertical-align: top;\n",
       "    }\n",
       "\n",
       "    .dataframe thead th {\n",
       "        text-align: right;\n",
       "    }\n",
       "</style>\n",
       "<table border=\"1\" class=\"dataframe\">\n",
       "  <thead>\n",
       "    <tr style=\"text-align: right;\">\n",
       "      <th></th>\n",
       "      <th>user_id</th>\n",
       "      <th>browse_beh_cnt</th>\n",
       "    </tr>\n",
       "  </thead>\n",
       "  <tbody>\n",
       "    <tr>\n",
       "      <th>0</th>\n",
       "      <td>34801</td>\n",
       "      <td>52</td>\n",
       "    </tr>\n",
       "    <tr>\n",
       "      <th>1</th>\n",
       "      <td>24129</td>\n",
       "      <td>32</td>\n",
       "    </tr>\n",
       "    <tr>\n",
       "      <th>2</th>\n",
       "      <td>40533</td>\n",
       "      <td>6</td>\n",
       "    </tr>\n",
       "    <tr>\n",
       "      <th>3</th>\n",
       "      <td>32384</td>\n",
       "      <td>100</td>\n",
       "    </tr>\n",
       "    <tr>\n",
       "      <th>4</th>\n",
       "      <td>44309</td>\n",
       "      <td>17</td>\n",
       "    </tr>\n",
       "  </tbody>\n",
       "</table>\n",
       "</div>"
      ],
      "text/plain": [
       "   user_id  browse_beh_cnt\n",
       "0    34801              52\n",
       "1    24129              32\n",
       "2    40533               6\n",
       "3    32384             100\n",
       "4    44309              17"
      ]
     },
     "execution_count": 20,
     "metadata": {},
     "output_type": "execute_result"
    }
   ],
   "source": [
    "browse_3 = pd.merge(browse_user, browse_beh, how='left', on='user_id')\n",
    "browse_3.head()"
   ]
  },
  {
   "cell_type": "markdown",
   "metadata": {},
   "source": [
    "### 数据表现"
   ]
  },
  {
   "cell_type": "code",
   "execution_count": 23,
   "metadata": {},
   "outputs": [
    {
     "data": {
      "image/png": "[encoded data removed]",
      "text/plain": [
       "<Figure size 1152x360 with 2 Axes>"
      ]
     },
     "metadata": {
      "needs_background": "light"
     },
     "output_type": "display_data"
    }
   ],
   "source": [
    "#  分布情况\n",
    "plt.figure()\n",
    "plt.subplot(121)\n",
    "sns.distplot(browse_3['browse_beh_cnt']);\n",
    "plt.subplot(122)\n",
    "browse_3['browse_beh_cnt'].plot.box(figsize=(16,5))\n",
    "plt.show();"
   ]
  },
  {
   "cell_type": "markdown",
   "metadata": {},
   "source": [
    "### 异常处理"
   ]
  },
  {
   "cell_type": "code",
   "execution_count": 21,
   "metadata": {},
   "outputs": [],
   "source": [
    "# 出现偏态，对数化\n",
    "browse_4 = browse_3.copy()\n",
    "\n",
    "browse_4['browse_beh_cnt_log'] = np.log(browse_4['browse_beh_cnt'])"
   ]
  },
  {
   "cell_type": "code",
   "execution_count": 23,
   "metadata": {},
   "outputs": [
    {
     "data": {
      "image/png": "[encoded data removed]",
      "text/plain": [
       "<Figure size 1152x360 with 2 Axes>"
      ]
     },
     "metadata": {
      "needs_background": "light"
     },
     "output_type": "display_data"
    }
   ],
   "source": [
    "plt.figure()\n",
    "plt.subplot(121)\n",
    "sns.distplot(browse_4['browse_beh_cnt_log']);\n",
    "plt.subplot(122)\n",
    "browse_4['browse_beh_cnt_log'].plot.box(figsize=(16,5))\n",
    "plt.show();"
   ]
  },
  {
   "cell_type": "code",
   "execution_count": 49,
   "metadata": {},
   "outputs": [
    {
     "data": {
      "text/html": [
       "<div>\n",
       "<style scoped>\n",
       "    .dataframe tbody tr th:only-of-type {\n",
       "        vertical-align: middle;\n",
       "    }\n",
       "\n",
       "    .dataframe tbody tr th {\n",
       "        vertical-align: top;\n",
       "    }\n",
       "\n",
       "    .dataframe thead th {\n",
       "        text-align: right;\n",
       "    }\n",
       "</style>\n",
       "<table border=\"1\" class=\"dataframe\">\n",
       "  <thead>\n",
       "    <tr style=\"text-align: right;\">\n",
       "      <th></th>\n",
       "      <th>user_id</th>\n",
       "      <th>browse_beh_cnt</th>\n",
       "      <th>browse_beh_cnt_log</th>\n",
       "    </tr>\n",
       "  </thead>\n",
       "  <tbody>\n",
       "    <tr>\n",
       "      <th>0</th>\n",
       "      <td>34801</td>\n",
       "      <td>52</td>\n",
       "      <td>3.951244</td>\n",
       "    </tr>\n",
       "    <tr>\n",
       "      <th>1</th>\n",
       "      <td>24129</td>\n",
       "      <td>32</td>\n",
       "      <td>3.465736</td>\n",
       "    </tr>\n",
       "    <tr>\n",
       "      <th>2</th>\n",
       "      <td>40533</td>\n",
       "      <td>6</td>\n",
       "      <td>1.791759</td>\n",
       "    </tr>\n",
       "    <tr>\n",
       "      <th>3</th>\n",
       "      <td>32384</td>\n",
       "      <td>100</td>\n",
       "      <td>4.605170</td>\n",
       "    </tr>\n",
       "    <tr>\n",
       "      <th>4</th>\n",
       "      <td>44309</td>\n",
       "      <td>17</td>\n",
       "      <td>2.833213</td>\n",
       "    </tr>\n",
       "  </tbody>\n",
       "</table>\n",
       "</div>"
      ],
      "text/plain": [
       "   user_id  browse_beh_cnt  browse_beh_cnt_log\n",
       "0    34801              52            3.951244\n",
       "1    24129              32            3.465736\n",
       "2    40533               6            1.791759\n",
       "3    32384             100            4.605170\n",
       "4    44309              17            2.833213"
      ]
     },
     "execution_count": 49,
     "metadata": {},
     "output_type": "execute_result"
    }
   ],
   "source": [
    "browse_4.head()"
   ]
  },
  {
   "cell_type": "markdown",
   "metadata": {},
   "source": [
    "## 账单表"
   ]
  },
  {
   "cell_type": "code",
   "execution_count": 51,
   "metadata": {},
   "outputs": [
    {
     "data": {
      "text/plain": [
       "Index(['user_id', 'bill_time_stamp', 'bank_id', 'previous_bill_amount',\n",
       "       'previous_repay_amount', 'credit_amount', 'current_bill_balance',\n",
       "       'current_bill_lowest_repay_amount', 'frequency_consumption',\n",
       "       'current_bill_amount', 'adjust_amount', 'cycle_interst',\n",
       "       'available_balance', 'cash_advance_limit', 'repay_status', 'loan_time'],\n",
       "      dtype='object')"
      ]
     },
     "execution_count": 51,
     "metadata": {},
     "output_type": "execute_result"
    },
    {
     "data": {
      "text/html": [
       "<div>\n",
       "<style scoped>\n",
       "    .dataframe tbody tr th:only-of-type {\n",
       "        vertical-align: middle;\n",
       "    }\n",
       "\n",
       "    .dataframe tbody tr th {\n",
       "        vertical-align: top;\n",
       "    }\n",
       "\n",
       "    .dataframe thead th {\n",
       "        text-align: right;\n",
       "    }\n",
       "</style>\n",
       "<table border=\"1\" class=\"dataframe\">\n",
       "  <thead>\n",
       "    <tr style=\"text-align: right;\">\n",
       "      <th></th>\n",
       "      <th>user_id</th>\n",
       "      <th>bill_time_stamp</th>\n",
       "      <th>bank_id</th>\n",
       "      <th>previous_bill_amount</th>\n",
       "      <th>previous_repay_amount</th>\n",
       "      <th>credit_amount</th>\n",
       "      <th>current_bill_balance</th>\n",
       "      <th>current_bill_lowest_repay_amount</th>\n",
       "      <th>frequency_consumption</th>\n",
       "      <th>current_bill_amount</th>\n",
       "      <th>adjust_amount</th>\n",
       "      <th>cycle_interst</th>\n",
       "      <th>available_balance</th>\n",
       "      <th>cash_advance_limit</th>\n",
       "      <th>repay_status</th>\n",
       "      <th>loan_time</th>\n",
       "    </tr>\n",
       "  </thead>\n",
       "  <tbody>\n",
       "    <tr>\n",
       "      <th>0</th>\n",
       "      <td>3150</td>\n",
       "      <td>5906744363</td>\n",
       "      <td>6</td>\n",
       "      <td>18.626118</td>\n",
       "      <td>18.661937</td>\n",
       "      <td>20.664418</td>\n",
       "      <td>18.905766</td>\n",
       "      <td>17.847133</td>\n",
       "      <td>1</td>\n",
       "      <td>0.0</td>\n",
       "      <td>0.0</td>\n",
       "      <td>0.0</td>\n",
       "      <td>0.0</td>\n",
       "      <td>19.971271</td>\n",
       "      <td>0</td>\n",
       "      <td>5919867087</td>\n",
       "    </tr>\n",
       "    <tr>\n",
       "      <th>1</th>\n",
       "      <td>3150</td>\n",
       "      <td>5906744401</td>\n",
       "      <td>6</td>\n",
       "      <td>18.905766</td>\n",
       "      <td>18.909954</td>\n",
       "      <td>20.664418</td>\n",
       "      <td>19.113305</td>\n",
       "      <td>17.911506</td>\n",
       "      <td>1</td>\n",
       "      <td>0.0</td>\n",
       "      <td>0.0</td>\n",
       "      <td>0.0</td>\n",
       "      <td>0.0</td>\n",
       "      <td>19.971271</td>\n",
       "      <td>0</td>\n",
       "      <td>5919867087</td>\n",
       "    </tr>\n",
       "    <tr>\n",
       "      <th>2</th>\n",
       "      <td>3150</td>\n",
       "      <td>5906744427</td>\n",
       "      <td>6</td>\n",
       "      <td>19.113305</td>\n",
       "      <td>19.150290</td>\n",
       "      <td>20.664418</td>\n",
       "      <td>19.300194</td>\n",
       "      <td>17.977610</td>\n",
       "      <td>1</td>\n",
       "      <td>0.0</td>\n",
       "      <td>0.0</td>\n",
       "      <td>0.0</td>\n",
       "      <td>0.0</td>\n",
       "      <td>19.971271</td>\n",
       "      <td>0</td>\n",
       "      <td>5919867087</td>\n",
       "    </tr>\n",
       "    <tr>\n",
       "      <th>3</th>\n",
       "      <td>3150</td>\n",
       "      <td>5906744515</td>\n",
       "      <td>6</td>\n",
       "      <td>19.300194</td>\n",
       "      <td>19.300280</td>\n",
       "      <td>21.000890</td>\n",
       "      <td>20.303240</td>\n",
       "      <td>18.477177</td>\n",
       "      <td>1</td>\n",
       "      <td>0.0</td>\n",
       "      <td>0.0</td>\n",
       "      <td>0.0</td>\n",
       "      <td>0.0</td>\n",
       "      <td>20.307743</td>\n",
       "      <td>0</td>\n",
       "      <td>5919867087</td>\n",
       "    </tr>\n",
       "    <tr>\n",
       "      <th>4</th>\n",
       "      <td>3150</td>\n",
       "      <td>5906744562</td>\n",
       "      <td>6</td>\n",
       "      <td>20.303240</td>\n",
       "      <td>20.307744</td>\n",
       "      <td>21.000890</td>\n",
       "      <td>20.357134</td>\n",
       "      <td>18.510985</td>\n",
       "      <td>1</td>\n",
       "      <td>0.0</td>\n",
       "      <td>0.0</td>\n",
       "      <td>0.0</td>\n",
       "      <td>0.0</td>\n",
       "      <td>20.307743</td>\n",
       "      <td>0</td>\n",
       "      <td>5919867087</td>\n",
       "    </tr>\n",
       "  </tbody>\n",
       "</table>\n",
       "</div>"
      ],
      "text/plain": [
       "   user_id  bill_time_stamp  bank_id  previous_bill_amount  \\\n",
       "0     3150       5906744363        6             18.626118   \n",
       "1     3150       5906744401        6             18.905766   \n",
       "2     3150       5906744427        6             19.113305   \n",
       "3     3150       5906744515        6             19.300194   \n",
       "4     3150       5906744562        6             20.303240   \n",
       "\n",
       "   previous_repay_amount  credit_amount  current_bill_balance  \\\n",
       "0              18.661937      20.664418             18.905766   \n",
       "1              18.909954      20.664418             19.113305   \n",
       "2              19.150290      20.664418             19.300194   \n",
       "3              19.300280      21.000890             20.303240   \n",
       "4              20.307744      21.000890             20.357134   \n",
       "\n",
       "   current_bill_lowest_repay_amount  frequency_consumption  \\\n",
       "0                         17.847133                      1   \n",
       "1                         17.911506                      1   \n",
       "2                         17.977610                      1   \n",
       "3                         18.477177                      1   \n",
       "4                         18.510985                      1   \n",
       "\n",
       "   current_bill_amount  adjust_amount  cycle_interst  available_balance  \\\n",
       "0                  0.0            0.0            0.0                0.0   \n",
       "1                  0.0            0.0            0.0                0.0   \n",
       "2                  0.0            0.0            0.0                0.0   \n",
       "3                  0.0            0.0            0.0                0.0   \n",
       "4                  0.0            0.0            0.0                0.0   \n",
       "\n",
       "   cash_advance_limit  repay_status   loan_time  \n",
       "0           19.971271             0  5919867087  \n",
       "1           19.971271             0  5919867087  \n",
       "2           19.971271             0  5919867087  \n",
       "3           20.307743             0  5919867087  \n",
       "4           20.307743             0  5919867087  "
      ]
     },
     "execution_count": 51,
     "metadata": {},
     "output_type": "execute_result"
    }
   ],
   "source": [
    "bill_2.columns\n",
    "bill_2.head()"
   ]
  },
  {
   "cell_type": "markdown",
   "metadata": {},
   "source": [
    "### 特征创造"
   ]
  },
  {
   "cell_type": "code",
   "execution_count": 22,
   "metadata": {},
   "outputs": [
    {
     "data": {
      "text/html": [
       "<div>\n",
       "<style scoped>\n",
       "    .dataframe tbody tr th:only-of-type {\n",
       "        vertical-align: middle;\n",
       "    }\n",
       "\n",
       "    .dataframe tbody tr th {\n",
       "        vertical-align: top;\n",
       "    }\n",
       "\n",
       "    .dataframe thead th {\n",
       "        text-align: right;\n",
       "    }\n",
       "</style>\n",
       "<table border=\"1\" class=\"dataframe\">\n",
       "  <thead>\n",
       "    <tr style=\"text-align: right;\">\n",
       "      <th></th>\n",
       "      <th>user_id</th>\n",
       "      <th>bank_cnt</th>\n",
       "    </tr>\n",
       "  </thead>\n",
       "  <tbody>\n",
       "    <tr>\n",
       "      <th>0</th>\n",
       "      <td>2</td>\n",
       "      <td>3</td>\n",
       "    </tr>\n",
       "    <tr>\n",
       "      <th>1</th>\n",
       "      <td>3</td>\n",
       "      <td>1</td>\n",
       "    </tr>\n",
       "    <tr>\n",
       "      <th>2</th>\n",
       "      <td>4</td>\n",
       "      <td>3</td>\n",
       "    </tr>\n",
       "    <tr>\n",
       "      <th>3</th>\n",
       "      <td>5</td>\n",
       "      <td>1</td>\n",
       "    </tr>\n",
       "    <tr>\n",
       "      <th>4</th>\n",
       "      <td>6</td>\n",
       "      <td>3</td>\n",
       "    </tr>\n",
       "  </tbody>\n",
       "</table>\n",
       "</div>"
      ],
      "text/plain": [
       "   user_id  bank_cnt\n",
       "0        2         3\n",
       "1        3         1\n",
       "2        4         3\n",
       "3        5         1\n",
       "4        6         3"
      ]
     },
     "execution_count": 22,
     "metadata": {},
     "output_type": "execute_result"
    }
   ],
   "source": [
    "bill_bank = bill_2[['user_id', 'bank_id']]\n",
    "bill_bank.drop_duplicates(inplace=True)\n",
    "\n",
    "# 银行卡张数\n",
    "gb = bill_bank.groupby(['user_id'], as_index=False)\n",
    "bank_cnt = gb['bank_id'].agg({'bank_cnt': 'count'})\n",
    "bank_cnt.head()"
   ]
  },
  {
   "cell_type": "code",
   "execution_count": 23,
   "metadata": {},
   "outputs": [
    {
     "data": {
      "text/plain": [
       "Index(['user_id', 'bill_time_stamp', 'bank_id', 'previous_bill_amount',\n",
       "       'previous_repay_amount', 'credit_amount', 'current_bill_balance',\n",
       "       'current_bill_lowest_repay_amount', 'frequency_consumption',\n",
       "       'current_bill_amount', 'adjust_amount', 'cycle_interst',\n",
       "       'available_balance', 'cash_advance_limit', 'repay_status', 'loan_time',\n",
       "       'previous_bill_amt_nonrepay', 'adjacent_bill_amt_diff',\n",
       "       'current_repay_amt_sum', 'used_credit_amt'],\n",
       "      dtype='object')"
      ]
     },
     "execution_count": 23,
     "metadata": {},
     "output_type": "execute_result"
    }
   ],
   "source": [
    "bill_3 = bill_2.copy()\n",
    "\n",
    "# 衍生其他变量\n",
    "bill_3['previous_bill_amt_nonrepay'] = bill_3['previous_bill_amount'] - bill_3['previous_repay_amount']\n",
    "bill_3['adjacent_bill_amt_diff'] = bill_3['current_bill_amount'] - bill_3['previous_bill_amount']\n",
    "bill_3['current_repay_amt_sum'] = bill_3['previous_bill_amount'] - bill_3['previous_repay_amount'] + bill_3['current_bill_amount'] - bill_3['adjust_amount'] + bill_3['cycle_interst']\n",
    "bill_3['used_credit_amt'] = bill_3['credit_amount'] - bill_3['available_balance']\n",
    "bill_3.columns"
   ]
  },
  {
   "cell_type": "code",
   "execution_count": 24,
   "metadata": {},
   "outputs": [
    {
     "data": {
      "text/html": [
       "<div>\n",
       "<style scoped>\n",
       "    .dataframe tbody tr th:only-of-type {\n",
       "        vertical-align: middle;\n",
       "    }\n",
       "\n",
       "    .dataframe tbody tr th {\n",
       "        vertical-align: top;\n",
       "    }\n",
       "\n",
       "    .dataframe thead th {\n",
       "        text-align: right;\n",
       "    }\n",
       "</style>\n",
       "<table border=\"1\" class=\"dataframe\">\n",
       "  <thead>\n",
       "    <tr style=\"text-align: right;\">\n",
       "      <th></th>\n",
       "      <th>user_id</th>\n",
       "      <th>previous_bill_amount</th>\n",
       "      <th>previous_repay_amount</th>\n",
       "      <th>credit_amount</th>\n",
       "      <th>current_bill_balance</th>\n",
       "      <th>current_bill_lowest_repay_amount</th>\n",
       "      <th>frequency_consumption</th>\n",
       "      <th>current_bill_amount</th>\n",
       "      <th>adjust_amount</th>\n",
       "      <th>cycle_interst</th>\n",
       "      <th>available_balance</th>\n",
       "      <th>cash_advance_limit</th>\n",
       "      <th>previous_bill_amt_nonrepay</th>\n",
       "      <th>adjacent_bill_amt_diff</th>\n",
       "      <th>current_repay_amt_sum</th>\n",
       "      <th>used_credit_amt</th>\n",
       "    </tr>\n",
       "  </thead>\n",
       "  <tbody>\n",
       "    <tr>\n",
       "      <th>0</th>\n",
       "      <td>2</td>\n",
       "      <td>15.415042</td>\n",
       "      <td>15.279627</td>\n",
       "      <td>15.882547</td>\n",
       "      <td>19.346253</td>\n",
       "      <td>10.369608</td>\n",
       "      <td>2.500000</td>\n",
       "      <td>15.272842</td>\n",
       "      <td>0.0</td>\n",
       "      <td>0.0</td>\n",
       "      <td>0.000000</td>\n",
       "      <td>2.037674</td>\n",
       "      <td>0.135415</td>\n",
       "      <td>-0.142200</td>\n",
       "      <td>15.408256</td>\n",
       "      <td>15.882547</td>\n",
       "    </tr>\n",
       "    <tr>\n",
       "      <th>1</th>\n",
       "      <td>3</td>\n",
       "      <td>18.366771</td>\n",
       "      <td>18.580174</td>\n",
       "      <td>18.361833</td>\n",
       "      <td>18.348270</td>\n",
       "      <td>16.045651</td>\n",
       "      <td>2.000000</td>\n",
       "      <td>18.581412</td>\n",
       "      <td>0.0</td>\n",
       "      <td>0.0</td>\n",
       "      <td>0.000000</td>\n",
       "      <td>0.000000</td>\n",
       "      <td>-0.213403</td>\n",
       "      <td>0.214641</td>\n",
       "      <td>18.368008</td>\n",
       "      <td>18.361833</td>\n",
       "    </tr>\n",
       "    <tr>\n",
       "      <th>2</th>\n",
       "      <td>4</td>\n",
       "      <td>7.240665</td>\n",
       "      <td>5.257402</td>\n",
       "      <td>16.921144</td>\n",
       "      <td>18.637185</td>\n",
       "      <td>17.340947</td>\n",
       "      <td>0.100000</td>\n",
       "      <td>7.938334</td>\n",
       "      <td>0.0</td>\n",
       "      <td>0.0</td>\n",
       "      <td>1.825816</td>\n",
       "      <td>8.425011</td>\n",
       "      <td>1.983262</td>\n",
       "      <td>0.697669</td>\n",
       "      <td>9.921596</td>\n",
       "      <td>15.095328</td>\n",
       "    </tr>\n",
       "    <tr>\n",
       "      <th>3</th>\n",
       "      <td>5</td>\n",
       "      <td>20.679226</td>\n",
       "      <td>18.539760</td>\n",
       "      <td>20.664418</td>\n",
       "      <td>20.636046</td>\n",
       "      <td>18.474369</td>\n",
       "      <td>0.000000</td>\n",
       "      <td>17.957256</td>\n",
       "      <td>0.0</td>\n",
       "      <td>0.0</td>\n",
       "      <td>0.000000</td>\n",
       "      <td>19.971271</td>\n",
       "      <td>2.139466</td>\n",
       "      <td>-2.721970</td>\n",
       "      <td>20.096722</td>\n",
       "      <td>20.664418</td>\n",
       "    </tr>\n",
       "    <tr>\n",
       "      <th>4</th>\n",
       "      <td>6</td>\n",
       "      <td>19.134415</td>\n",
       "      <td>17.363353</td>\n",
       "      <td>20.567794</td>\n",
       "      <td>19.176074</td>\n",
       "      <td>17.976737</td>\n",
       "      <td>2.904762</td>\n",
       "      <td>12.452313</td>\n",
       "      <td>0.0</td>\n",
       "      <td>0.0</td>\n",
       "      <td>2.447743</td>\n",
       "      <td>13.788434</td>\n",
       "      <td>1.771062</td>\n",
       "      <td>-6.682102</td>\n",
       "      <td>14.223375</td>\n",
       "      <td>18.120052</td>\n",
       "    </tr>\n",
       "  </tbody>\n",
       "</table>\n",
       "</div>"
      ],
      "text/plain": [
       "   user_id  previous_bill_amount  previous_repay_amount  credit_amount  \\\n",
       "0        2             15.415042              15.279627      15.882547   \n",
       "1        3             18.366771              18.580174      18.361833   \n",
       "2        4              7.240665               5.257402      16.921144   \n",
       "3        5             20.679226              18.539760      20.664418   \n",
       "4        6             19.134415              17.363353      20.567794   \n",
       "\n",
       "   current_bill_balance  current_bill_lowest_repay_amount  \\\n",
       "0             19.346253                         10.369608   \n",
       "1             18.348270                         16.045651   \n",
       "2             18.637185                         17.340947   \n",
       "3             20.636046                         18.474369   \n",
       "4             19.176074                         17.976737   \n",
       "\n",
       "   frequency_consumption  current_bill_amount  adjust_amount  cycle_interst  \\\n",
       "0               2.500000            15.272842            0.0            0.0   \n",
       "1               2.000000            18.581412            0.0            0.0   \n",
       "2               0.100000             7.938334            0.0            0.0   \n",
       "3               0.000000            17.957256            0.0            0.0   \n",
       "4               2.904762            12.452313            0.0            0.0   \n",
       "\n",
       "   available_balance  cash_advance_limit  previous_bill_amt_nonrepay  \\\n",
       "0           0.000000            2.037674                    0.135415   \n",
       "1           0.000000            0.000000                   -0.213403   \n",
       "2           1.825816            8.425011                    1.983262   \n",
       "3           0.000000           19.971271                    2.139466   \n",
       "4           2.447743           13.788434                    1.771062   \n",
       "\n",
       "   adjacent_bill_amt_diff  current_repay_amt_sum  used_credit_amt  \n",
       "0               -0.142200              15.408256        15.882547  \n",
       "1                0.214641              18.368008        18.361833  \n",
       "2                0.697669               9.921596        15.095328  \n",
       "3               -2.721970              20.096722        20.664418  \n",
       "4               -6.682102              14.223375        18.120052  "
      ]
     },
     "execution_count": 24,
     "metadata": {},
     "output_type": "execute_result"
    }
   ],
   "source": [
    "bill_4 = bill_3.drop(['bill_time_stamp', 'bank_id', 'repay_status', 'loan_time'], axis=1)\n",
    "gb = bill_4.groupby(['user_id'], as_index=False)\n",
    "bill_5 = gb['previous_bill_amount',\n",
    "       'previous_repay_amount', 'credit_amount', 'current_bill_balance',\n",
    "       'current_bill_lowest_repay_amount', 'frequency_consumption',\n",
    "       'current_bill_amount', 'adjust_amount', 'cycle_interst',\n",
    "       'available_balance', 'cash_advance_limit',\n",
    "       'previous_bill_amt_nonrepay', 'adjacent_bill_amt_diff',\n",
    "       'current_repay_amt_sum', 'used_credit_amt'].agg(np.mean)\n",
    "bill_5.head()"
   ]
  },
  {
   "cell_type": "code",
   "execution_count": 25,
   "metadata": {},
   "outputs": [],
   "source": [
    "bill_5 = pd.merge(bank_cnt, bill_5, how='inner', on='user_id')"
   ]
  },
  {
   "cell_type": "code",
   "execution_count": 59,
   "metadata": {},
   "outputs": [
    {
     "data": {
      "text/plain": [
       "(46558, 17)"
      ]
     },
     "execution_count": 59,
     "metadata": {},
     "output_type": "execute_result"
    }
   ],
   "source": [
    "bill_5.shape"
   ]
  },
  {
   "cell_type": "markdown",
   "metadata": {},
   "source": [
    "### 相关性"
   ]
  },
  {
   "cell_type": "code",
   "execution_count": 82,
   "metadata": {},
   "outputs": [
    {
     "data": {
      "text/plain": [
       "Index(['user_id', 'bank_cnt', 'previous_bill_amount', 'previous_repay_amount',\n",
       "       'credit_amount', 'current_bill_balance',\n",
       "       'current_bill_lowest_repay_amount', 'frequency_consumption',\n",
       "       'current_bill_amount', 'adjust_amount', 'cycle_interst',\n",
       "       'available_balance', 'cash_advance_limit', 'previous_bill_amt_nonrepay',\n",
       "       'adjacent_bill_amt_diff', 'current_repay_amt_sum', 'used_credit_amt'],\n",
       "      dtype='object')"
      ]
     },
     "execution_count": 82,
     "metadata": {},
     "output_type": "execute_result"
    }
   ],
   "source": [
    "bill_5.columns"
   ]
  },
  {
   "cell_type": "code",
   "execution_count": 28,
   "metadata": {},
   "outputs": [
    {
     "data": {
      "image/png": "[encoded data removed]",
      "text/plain": [
       "<Figure size 864x864 with 2 Axes>"
      ]
     },
     "metadata": {
      "needs_background": "light"
     },
     "output_type": "display_data"
    }
   ],
   "source": [
    "cols = ['bank_cnt', 'previous_bill_amount', 'previous_repay_amount',\n",
    "       'credit_amount', 'current_bill_balance',\n",
    "       'current_bill_lowest_repay_amount', 'frequency_consumption',\n",
    "       'current_bill_amount', 'adjust_amount', 'cycle_interst',\n",
    "       'available_balance', 'cash_advance_limit', 'previous_bill_amt_nonrepay',\n",
    "       'adjacent_bill_amt_diff', 'current_repay_amt_sum', 'used_credit_amt']\n",
    "\n",
    "cor = bill_5[cols].corr()\n",
    "plt.subplots(figsize=(12, 12))\n",
    "plt.xticks(rotation='0')\n",
    "sns.heatmap(cor, square=False, linewidths=0.5, annot=True)\n",
    "plt.show();"
   ]
  },
  {
   "cell_type": "code",
   "execution_count": null,
   "metadata": {},
   "outputs": [],
   "source": [
    "# 去掉 'previous_bill_amount', 'current_bill_balance', 'current_bill_amount', 'used_credit_amt'"
   ]
  },
  {
   "cell_type": "markdown",
   "metadata": {},
   "source": [
    "# 合并各表"
   ]
  },
  {
   "cell_type": "code",
   "execution_count": 26,
   "metadata": {},
   "outputs": [
    {
     "data": {
      "text/plain": [
       "(5730, 22)"
      ]
     },
     "execution_count": 26,
     "metadata": {},
     "output_type": "execute_result"
    }
   ],
   "source": [
    "df_1 = pd.merge(bank_4, browse_4, how='inner', on='user_id')\n",
    "df_1 = pd.merge(df_1, bill_5, how='inner', on='user_id')\n",
    "df_1.shape"
   ]
  },
  {
   "cell_type": "code",
   "execution_count": 27,
   "metadata": {},
   "outputs": [
    {
     "data": {
      "text/plain": [
       "(5730, 28)"
      ]
     },
     "execution_count": 27,
     "metadata": {},
     "output_type": "execute_result"
    }
   ],
   "source": [
    "# 银行、账单、浏览记录合并后有5730个用户信息\n",
    "# 合并用户信息和违约，构建完整数据集合\n",
    "df_2 = pd.merge(user_2, df_1, how='inner', on='user_id')\n",
    "df_2 = pd.merge(df_2, overdue_2, how='inner', on='user_id')\n",
    "df_2.shape"
   ]
  },
  {
   "cell_type": "code",
   "execution_count": 64,
   "metadata": {},
   "outputs": [
    {
     "data": {
      "text/plain": [
       "0    4895\n",
       "1     835\n",
       "Name: overdue_label, dtype: int64"
      ]
     },
     "execution_count": 64,
     "metadata": {},
     "output_type": "execute_result"
    }
   ],
   "source": [
    "# 数据存在轻微不平衡\n",
    "df_2['overdue_label'].value_counts()"
   ]
  },
  {
   "cell_type": "code",
   "execution_count": 79,
   "metadata": {},
   "outputs": [
    {
     "data": {
      "text/plain": [
       "<seaborn.axisgrid.FacetGrid at 0x1a32f7b2670>"
      ]
     },
     "execution_count": 79,
     "metadata": {},
     "output_type": "execute_result"
    },
    {
     "data": {
      "image/png": "[encoded data removed]",
      "text/plain": [
       "<Figure size 433.125x360 with 1 Axes>"
      ]
     },
     "metadata": {
      "needs_background": "light"
     },
     "output_type": "display_data"
    }
   ],
   "source": [
    "# 性别和违约的分类统计\n",
    "\n",
    "# gb = df_2.groupby(['gender'], as_index=False)\n",
    "# g = gb['gender'].agg({'gender_sum': 'count'})\n",
    "\n",
    "\n",
    "# gb = df_2.groupby(['gender', 'overdue_label'], as_index=False)\n",
    "# gg = gb['user_id'].count()\n",
    "# gg.rename(columns={'user_id': 'cnt'}, inplace=True)\n",
    "\n",
    "# gender = pd.merge(gg, g, how='inner', on='gender')\n",
    "\n",
    "# sns.catplot(x=\"gender\", y='cnt', hue=\"overdue_label\", data=gender, kind='bar')"
   ]
  },
  {
   "cell_type": "code",
   "execution_count": 92,
   "metadata": {},
   "outputs": [
    {
     "data": {
      "text/plain": [
       "<AxesSubplot:xlabel='education'>"
      ]
     },
     "execution_count": 92,
     "metadata": {},
     "output_type": "execute_result"
    },
    {
     "data": {
      "image/png": "[encoded data removed]",
      "text/plain": [
       "<Figure size 360x360 with 1 Axes>"
      ]
     },
     "metadata": {
      "needs_background": "light"
     },
     "output_type": "display_data"
    }
   ],
   "source": [
    "# education=pd.crosstab(df_2['education'], df_2['overdue_label'])\n",
    "# education.plot(kind=\"bar\", stacked=True, figsize=(5,5))"
   ]
  },
  {
   "cell_type": "markdown",
   "metadata": {},
   "source": [
    "# 变量选择"
   ]
  },
  {
   "cell_type": "code",
   "execution_count": 84,
   "metadata": {},
   "outputs": [
    {
     "data": {
      "text/plain": [
       "(5730, 28)"
      ]
     },
     "execution_count": 84,
     "metadata": {},
     "output_type": "execute_result"
    },
    {
     "data": {
      "text/plain": [
       "Index(['user_id', 'gender', 'occupation', 'education', 'married', 'hukou',\n",
       "       'income_avg', 'export_avg', 'wage_income_avg', 'browse_beh_cnt',\n",
       "       'browse_beh_cnt_log', 'bank_cnt', 'previous_bill_amount',\n",
       "       'previous_repay_amount', 'credit_amount', 'current_bill_balance',\n",
       "       'current_bill_lowest_repay_amount', 'frequency_consumption',\n",
       "       'current_bill_amount', 'adjust_amount', 'cycle_interst',\n",
       "       'available_balance', 'cash_advance_limit', 'previous_bill_amt_nonrepay',\n",
       "       'adjacent_bill_amt_diff', 'current_repay_amt_sum', 'used_credit_amt',\n",
       "       'overdue_label'],\n",
       "      dtype='object')"
      ]
     },
     "execution_count": 84,
     "metadata": {},
     "output_type": "execute_result"
    }
   ],
   "source": [
    "df_2.shape\n",
    "df_2.columns"
   ]
  },
  {
   "cell_type": "code",
   "execution_count": 88,
   "metadata": {},
   "outputs": [
    {
     "data": {
      "text/html": [
       "<div>\n",
       "<style scoped>\n",
       "    .dataframe tbody tr th:only-of-type {\n",
       "        vertical-align: middle;\n",
       "    }\n",
       "\n",
       "    .dataframe tbody tr th {\n",
       "        vertical-align: top;\n",
       "    }\n",
       "\n",
       "    .dataframe thead th {\n",
       "        text-align: right;\n",
       "    }\n",
       "</style>\n",
       "<table border=\"1\" class=\"dataframe\">\n",
       "  <thead>\n",
       "    <tr style=\"text-align: right;\">\n",
       "      <th></th>\n",
       "      <th>iv</th>\n",
       "      <th>gini</th>\n",
       "      <th>entropy</th>\n",
       "      <th>unique</th>\n",
       "    </tr>\n",
       "  </thead>\n",
       "  <tbody>\n",
       "    <tr>\n",
       "      <th>income_avg</th>\n",
       "      <td>0.203163</td>\n",
       "      <td>NaN</td>\n",
       "      <td>NaN</td>\n",
       "      <td>5727.0</td>\n",
       "    </tr>\n",
       "    <tr>\n",
       "      <th>previous_bill_amt_nonrepay</th>\n",
       "      <td>0.162342</td>\n",
       "      <td>NaN</td>\n",
       "      <td>NaN</td>\n",
       "      <td>5238.0</td>\n",
       "    </tr>\n",
       "    <tr>\n",
       "      <th>export_avg</th>\n",
       "      <td>0.152651</td>\n",
       "      <td>NaN</td>\n",
       "      <td>NaN</td>\n",
       "      <td>5725.0</td>\n",
       "    </tr>\n",
       "    <tr>\n",
       "      <th>gender</th>\n",
       "      <td>0.108776</td>\n",
       "      <td>NaN</td>\n",
       "      <td>NaN</td>\n",
       "      <td>3.0</td>\n",
       "    </tr>\n",
       "    <tr>\n",
       "      <th>wage_income_avg</th>\n",
       "      <td>0.107337</td>\n",
       "      <td>NaN</td>\n",
       "      <td>NaN</td>\n",
       "      <td>1737.0</td>\n",
       "    </tr>\n",
       "    <tr>\n",
       "      <th>cash_advance_limit</th>\n",
       "      <td>0.091024</td>\n",
       "      <td>NaN</td>\n",
       "      <td>NaN</td>\n",
       "      <td>3627.0</td>\n",
       "    </tr>\n",
       "    <tr>\n",
       "      <th>current_repay_amt_sum</th>\n",
       "      <td>0.078218</td>\n",
       "      <td>NaN</td>\n",
       "      <td>NaN</td>\n",
       "      <td>5307.0</td>\n",
       "    </tr>\n",
       "    <tr>\n",
       "      <th>current_bill_lowest_repay_amount</th>\n",
       "      <td>0.074105</td>\n",
       "      <td>NaN</td>\n",
       "      <td>NaN</td>\n",
       "      <td>5630.0</td>\n",
       "    </tr>\n",
       "    <tr>\n",
       "      <th>previous_repay_amount</th>\n",
       "      <td>0.073577</td>\n",
       "      <td>NaN</td>\n",
       "      <td>NaN</td>\n",
       "      <td>5207.0</td>\n",
       "    </tr>\n",
       "    <tr>\n",
       "      <th>frequency_consumption</th>\n",
       "      <td>0.071014</td>\n",
       "      <td>NaN</td>\n",
       "      <td>NaN</td>\n",
       "      <td>2023.0</td>\n",
       "    </tr>\n",
       "    <tr>\n",
       "      <th>current_bill_balance</th>\n",
       "      <td>0.067652</td>\n",
       "      <td>NaN</td>\n",
       "      <td>NaN</td>\n",
       "      <td>5689.0</td>\n",
       "    </tr>\n",
       "    <tr>\n",
       "      <th>browse_beh_cnt</th>\n",
       "      <td>0.063837</td>\n",
       "      <td>NaN</td>\n",
       "      <td>NaN</td>\n",
       "      <td>355.0</td>\n",
       "    </tr>\n",
       "    <tr>\n",
       "      <th>browse_beh_cnt_log</th>\n",
       "      <td>0.063837</td>\n",
       "      <td>NaN</td>\n",
       "      <td>NaN</td>\n",
       "      <td>355.0</td>\n",
       "    </tr>\n",
       "    <tr>\n",
       "      <th>adjacent_bill_amt_diff</th>\n",
       "      <td>0.061273</td>\n",
       "      <td>NaN</td>\n",
       "      <td>NaN</td>\n",
       "      <td>5297.0</td>\n",
       "    </tr>\n",
       "    <tr>\n",
       "      <th>credit_amount</th>\n",
       "      <td>0.055794</td>\n",
       "      <td>NaN</td>\n",
       "      <td>NaN</td>\n",
       "      <td>4173.0</td>\n",
       "    </tr>\n",
       "    <tr>\n",
       "      <th>current_bill_amount</th>\n",
       "      <td>0.054175</td>\n",
       "      <td>NaN</td>\n",
       "      <td>NaN</td>\n",
       "      <td>4991.0</td>\n",
       "    </tr>\n",
       "    <tr>\n",
       "      <th>cycle_interst</th>\n",
       "      <td>0.053077</td>\n",
       "      <td>NaN</td>\n",
       "      <td>NaN</td>\n",
       "      <td>2154.0</td>\n",
       "    </tr>\n",
       "    <tr>\n",
       "      <th>available_balance</th>\n",
       "      <td>0.051701</td>\n",
       "      <td>NaN</td>\n",
       "      <td>NaN</td>\n",
       "      <td>1156.0</td>\n",
       "    </tr>\n",
       "    <tr>\n",
       "      <th>previous_bill_amount</th>\n",
       "      <td>0.050088</td>\n",
       "      <td>NaN</td>\n",
       "      <td>NaN</td>\n",
       "      <td>5172.0</td>\n",
       "    </tr>\n",
       "    <tr>\n",
       "      <th>used_credit_amt</th>\n",
       "      <td>0.050004</td>\n",
       "      <td>NaN</td>\n",
       "      <td>NaN</td>\n",
       "      <td>4252.0</td>\n",
       "    </tr>\n",
       "    <tr>\n",
       "      <th>bank_cnt</th>\n",
       "      <td>0.046484</td>\n",
       "      <td>NaN</td>\n",
       "      <td>NaN</td>\n",
       "      <td>15.0</td>\n",
       "    </tr>\n",
       "    <tr>\n",
       "      <th>adjust_amount</th>\n",
       "      <td>0.042056</td>\n",
       "      <td>NaN</td>\n",
       "      <td>NaN</td>\n",
       "      <td>1024.0</td>\n",
       "    </tr>\n",
       "    <tr>\n",
       "      <th>education</th>\n",
       "      <td>0.026806</td>\n",
       "      <td>NaN</td>\n",
       "      <td>NaN</td>\n",
       "      <td>5.0</td>\n",
       "    </tr>\n",
       "    <tr>\n",
       "      <th>married</th>\n",
       "      <td>0.020970</td>\n",
       "      <td>NaN</td>\n",
       "      <td>NaN</td>\n",
       "      <td>6.0</td>\n",
       "    </tr>\n",
       "    <tr>\n",
       "      <th>occupation</th>\n",
       "      <td>0.017234</td>\n",
       "      <td>NaN</td>\n",
       "      <td>NaN</td>\n",
       "      <td>5.0</td>\n",
       "    </tr>\n",
       "    <tr>\n",
       "      <th>hukou</th>\n",
       "      <td>0.010324</td>\n",
       "      <td>NaN</td>\n",
       "      <td>NaN</td>\n",
       "      <td>5.0</td>\n",
       "    </tr>\n",
       "  </tbody>\n",
       "</table>\n",
       "</div>"
      ],
      "text/plain": [
       "                                        iv  gini  entropy  unique\n",
       "income_avg                        0.203163   NaN      NaN  5727.0\n",
       "previous_bill_amt_nonrepay        0.162342   NaN      NaN  5238.0\n",
       "export_avg                        0.152651   NaN      NaN  5725.0\n",
       "gender                            0.108776   NaN      NaN     3.0\n",
       "wage_income_avg                   0.107337   NaN      NaN  1737.0\n",
       "cash_advance_limit                0.091024   NaN      NaN  3627.0\n",
       "current_repay_amt_sum             0.078218   NaN      NaN  5307.0\n",
       "current_bill_lowest_repay_amount  0.074105   NaN      NaN  5630.0\n",
       "previous_repay_amount             0.073577   NaN      NaN  5207.0\n",
       "frequency_consumption             0.071014   NaN      NaN  2023.0\n",
       "current_bill_balance              0.067652   NaN      NaN  5689.0\n",
       "browse_beh_cnt                    0.063837   NaN      NaN   355.0\n",
       "browse_beh_cnt_log                0.063837   NaN      NaN   355.0\n",
       "adjacent_bill_amt_diff            0.061273   NaN      NaN  5297.0\n",
       "credit_amount                     0.055794   NaN      NaN  4173.0\n",
       "current_bill_amount               0.054175   NaN      NaN  4991.0\n",
       "cycle_interst                     0.053077   NaN      NaN  2154.0\n",
       "available_balance                 0.051701   NaN      NaN  1156.0\n",
       "previous_bill_amount              0.050088   NaN      NaN  5172.0\n",
       "used_credit_amt                   0.050004   NaN      NaN  4252.0\n",
       "bank_cnt                          0.046484   NaN      NaN    15.0\n",
       "adjust_amount                     0.042056   NaN      NaN  1024.0\n",
       "education                         0.026806   NaN      NaN     5.0\n",
       "married                           0.020970   NaN      NaN     6.0\n",
       "occupation                        0.017234   NaN      NaN     5.0\n",
       "hukou                             0.010324   NaN      NaN     5.0"
      ]
     },
     "execution_count": 88,
     "metadata": {},
     "output_type": "execute_result"
    }
   ],
   "source": [
    "import toad\n",
    "toad.quality(df_2.iloc[:, 1:-1], df_2['overdue_label'], iv_only=True)"
   ]
  },
  {
   "cell_type": "code",
   "execution_count": 29,
   "metadata": {},
   "outputs": [
    {
     "data": {
      "text/plain": [
       "Index(['user_id', 'gender', 'occupation', 'income_avg', 'wage_income_avg',\n",
       "       'browse_beh_cnt', 'browse_beh_cnt_log', 'bank_cnt',\n",
       "       'previous_repay_amount', 'credit_amount',\n",
       "       'current_bill_lowest_repay_amount', 'frequency_consumption',\n",
       "       'cycle_interst', 'cash_advance_limit', 'previous_bill_amt_nonrepay',\n",
       "       'adjacent_bill_amt_diff', 'current_repay_amt_sum', 'overdue_label'],\n",
       "      dtype='object')"
      ]
     },
     "execution_count": 29,
     "metadata": {},
     "output_type": "execute_result"
    }
   ],
   "source": [
    "# 去掉  'export_avg', 'previous_bill_amount', 'current_bill_balance', 'current_bill_amount', 'used_credit_amt',\n",
    "# 'available_balance', 'adjust_amount'\n",
    "# 对于分类变量，去掉 'hukou', 'education', 'married'\n",
    "\n",
    "df_3 = df_2.drop(['export_avg', 'previous_bill_amount', 'current_bill_balance', 'current_bill_amount', 'used_credit_amt'\n",
    "                 ,'hukou', 'education', 'married', 'available_balance', 'adjust_amount'], axis=1)\n",
    "df_3.columns"
   ]
  },
  {
   "cell_type": "code",
   "execution_count": 138,
   "metadata": {},
   "outputs": [
    {
     "data": {
      "text/plain": [
       "(5730, 18)"
      ]
     },
     "execution_count": 138,
     "metadata": {},
     "output_type": "execute_result"
    }
   ],
   "source": [
    "df_3.shape"
   ]
  },
  {
   "cell_type": "markdown",
   "metadata": {},
   "source": [
    "# 建模"
   ]
  },
  {
   "cell_type": "markdown",
   "metadata": {},
   "source": [
    "## 数据集分割"
   ]
  },
  {
   "cell_type": "code",
   "execution_count": 30,
   "metadata": {},
   "outputs": [
    {
     "data": {
      "text/plain": [
       "(5730, 16)"
      ]
     },
     "execution_count": 30,
     "metadata": {},
     "output_type": "execute_result"
    },
    {
     "data": {
      "text/plain": [
       "(5730, 1)"
      ]
     },
     "execution_count": 30,
     "metadata": {},
     "output_type": "execute_result"
    }
   ],
   "source": [
    "X = df_3.drop(['user_id', 'overdue_label'], axis=1)\n",
    "X = np.array(X)\n",
    "\n",
    "Y = df_3[['overdue_label']]\n",
    "Y = np.array(Y)\n",
    "\n",
    "X.shape\n",
    "Y.shape\n",
    "\n",
    "from sklearn.model_selection import train_test_split\n",
    "\n",
    "xtrain, xtest, ytrain, ytest = train_test_split(X, Y, test_size=0.3)"
   ]
  },
  {
   "cell_type": "markdown",
   "metadata": {},
   "source": [
    "## 决策树"
   ]
  },
  {
   "cell_type": "code",
   "execution_count": 32,
   "metadata": {},
   "outputs": [
    {
     "data": {
      "text/plain": [
       "{'criterion': 'entropy', 'max_depth': 3, 'splitter': 'best'}"
      ]
     },
     "execution_count": 32,
     "metadata": {},
     "output_type": "execute_result"
    },
    {
     "data": {
      "text/plain": [
       "0.856893835064081"
      ]
     },
     "execution_count": 32,
     "metadata": {},
     "output_type": "execute_result"
    },
    {
     "name": "stdout",
     "output_type": "stream",
     "text": [
      "运行时间：00:05:264678\n"
     ]
    }
   ],
   "source": [
    "from time import time\n",
    "import datetime\n",
    "\n",
    "time0 = time()\n",
    "parameters_clf = {\n",
    "    'criterion': ('gini', 'entropy')\n",
    "    ,'splitter': ('best', 'random')\n",
    "    ,'max_depth': [*range(1, 10)]\n",
    "#    ,'min_samples_leaf': [*range(1, 50, 5)]\n",
    "#    ,'min_impurity_decrease': [*np.linspace(0, 0.5, 50)]\n",
    "}\n",
    "\n",
    "clf = DecisionTreeClassifier(random_state=10)\n",
    "gs_clf = GridSearchCV(clf, parameters_clf, cv=10)\n",
    "gs_clf = gs_clf.fit(xtrain, ytrain)\n",
    "\n",
    "# 返回参数组合\n",
    "gs_clf.best_params_\n",
    "# 评分\n",
    "gs_clf.best_score_\n",
    "print('运行时间：%s' % datetime.datetime.fromtimestamp(time() - time0).strftime('%M:%S:%f'))"
   ]
  },
  {
   "cell_type": "code",
   "execution_count": 33,
   "metadata": {},
   "outputs": [
    {
     "data": {
      "text/plain": [
       "0.8580570098894706"
      ]
     },
     "execution_count": 33,
     "metadata": {},
     "output_type": "execute_result"
    }
   ],
   "source": [
    "clf_ = DecisionTreeClassifier(random_state=10\n",
    "                             ,criterion='gini'\n",
    "                             ,max_depth=4\n",
    "                             ,splitter='random'\n",
    "#                              ,min_samples_leaf=21\n",
    "                             )\n",
    "clf_ = clf_.fit(xtrain, ytrain)\n",
    "ypred_clf = clf_.predict(xtest)\n",
    "# print(classification_report(ytest, ypred_clf))\n",
    "accuracy_score(ytest, ypred_clf)"
   ]
  },
  {
   "cell_type": "markdown",
   "metadata": {},
   "source": [
    "## 随机森林"
   ]
  },
  {
   "cell_type": "code",
   "execution_count": 34,
   "metadata": {},
   "outputs": [
    {
     "data": {
      "text/plain": [
       "{'max_features': 10}"
      ]
     },
     "execution_count": 34,
     "metadata": {},
     "output_type": "execute_result"
    },
    {
     "data": {
      "text/plain": [
       "0.8563950819468742"
      ]
     },
     "execution_count": 34,
     "metadata": {},
     "output_type": "execute_result"
    },
    {
     "name": "stdout",
     "output_type": "stream",
     "text": [
      "运行时间：00:17:209559\n"
     ]
    }
   ],
   "source": [
    "from time import time\n",
    "import datetime\n",
    "\n",
    "time0 = time()\n",
    "\n",
    "parameters_rfc = {\n",
    "    'max_features': range(3, 11, 1)\n",
    "}\n",
    "\n",
    "rfc = RandomForestClassifier(random_state=10\n",
    "                            ,min_samples_leaf=10\n",
    "                             ,max_depth=11\n",
    "#                             ,max_features=10\n",
    "                             ,n_estimators=20\n",
    "                             ,min_samples_split=100\n",
    "                             ,oob_score=True\n",
    "                            )\n",
    "gs_rfc = GridSearchCV(rfc, parameters_rfc, cv=10)\n",
    "gs_rfc = gs_rfc.fit(xtrain, ytrain)\n",
    "\n",
    "# 返回参数组合\n",
    "gs_rfc.best_params_\n",
    "# 评分\n",
    "gs_rfc.best_score_\n",
    "\n",
    "\n",
    "print('运行时间：%s' % datetime.datetime.fromtimestamp(time() - time0).strftime('%M:%S:%f'))"
   ]
  },
  {
   "cell_type": "code",
   "execution_count": 35,
   "metadata": {},
   "outputs": [
    {
     "data": {
      "text/plain": [
       "0.8551483420593369"
      ]
     },
     "execution_count": 35,
     "metadata": {},
     "output_type": "execute_result"
    },
    {
     "name": "stdout",
     "output_type": "stream",
     "text": [
      "运行时间：00:00:343743\n"
     ]
    }
   ],
   "source": [
    "\n",
    "time0 = time()\n",
    "\n",
    "rfc = RandomForestClassifier(random_state=10\n",
    "                             ,min_samples_leaf=10\n",
    "                             ,max_depth=11\n",
    "                             ,max_features=10\n",
    "                             ,n_estimators=20\n",
    "                             ,min_samples_split=100\n",
    "                             ,oob_score=True\n",
    "                            )\n",
    "rfc_ = rfc.fit(xtrain, ytrain)\n",
    "ypred_rfc = rfc_.predict(xtest)\n",
    "# print(classification_report(ytest, ypred_rfc))\n",
    "accuracy_score(ytest, ypred_rfc)\n",
    "\n",
    "print('运行时间：%s' % datetime.datetime.fromtimestamp(time() - time0).strftime('%M:%S:%f'))\n"
   ]
  },
  {
   "cell_type": "markdown",
   "metadata": {},
   "source": [
    "## 支持向量机"
   ]
  },
  {
   "cell_type": "code",
   "execution_count": null,
   "metadata": {},
   "outputs": [],
   "source": [
    "times = time() \n",
    "\n",
    "for kernel in [\"linear\",\"poly\",\"rbf\",\"sigmoid\"]:\n",
    "    svc_ = SVC(kernel=kernel\n",
    "              ,gamma=\"auto\"\n",
    "              ,degree=1\n",
    "              ,cache_size=5000\n",
    "             ).fit(xtrain, ytrain)\n",
    "    result = svc_.predict(xtest)\n",
    "    score = svc_.score(xtest, ytest)\n",
    "    recall = recall_score(ytest, result)\n",
    "    auc = roc_auc_score(ytest, svc_.decision_function(xtest))\n",
    "    print(\"%s 's testing accuracy %f, recall is %f', auc is %f\" % (kernel, score, recall, auc))\n",
    "    print(datetime.datetime.fromtimestamp(time()-times).strftime(\"%M:%S:%f\"))"
   ]
  },
  {
   "cell_type": "markdown",
   "metadata": {},
   "source": [
    "## 逻辑回归"
   ]
  },
  {
   "cell_type": "code",
   "execution_count": 52,
   "metadata": {},
   "outputs": [
    {
     "data": {
      "text/plain": [
       "{'C': 0.01, 'penalty': 'l2'}"
      ]
     },
     "execution_count": 52,
     "metadata": {},
     "output_type": "execute_result"
    },
    {
     "data": {
      "text/plain": [
       "0.8534031835833302"
      ]
     },
     "execution_count": 52,
     "metadata": {},
     "output_type": "execute_result"
    },
    {
     "name": "stdout",
     "output_type": "stream",
     "text": [
      "运行时间：00:04:285456\n"
     ]
    }
   ],
   "source": [
    "from time import time\n",
    "import datetime\n",
    "\n",
    "time0 = time()\n",
    "parameters_lr = {\n",
    "    'penalty': ['l1', 'l2']\n",
    "    ,'C': [0.001, 0.01, 0.1, 1, 10, 100]\n",
    "}\n",
    "\n",
    "lr_ = LogisticRegression(random_state=10\n",
    "                        )\n",
    "gs_lr = GridSearchCV(lr_, parameters_lr, cv=10)\n",
    "gs_lr = gs_lr.fit(xtrain, ytrain)\n",
    "\n",
    "# 返回参数组合\n",
    "gs_lr.best_params_\n",
    "# 评分\n",
    "gs_lr.best_score_\n",
    "print('运行时间：%s' % datetime.datetime.fromtimestamp(time() - time0).strftime('%M:%S:%f'))"
   ]
  },
  {
   "cell_type": "code",
   "execution_count": 53,
   "metadata": {},
   "outputs": [
    {
     "data": {
      "text/plain": [
       "0.8574752763234439"
      ]
     },
     "execution_count": 53,
     "metadata": {},
     "output_type": "execute_result"
    }
   ],
   "source": [
    "lr = LogisticRegression(random_state=10\n",
    "                        ,penalty='l2'\n",
    "                        ,C=0.01\n",
    "                       )\n",
    "lr = lr.fit(xtrain, ytrain)\n",
    "ypred_lr = lr.predict(xtest)\n",
    "# print(classification_report(ytest, ypred_rfc))\n",
    "accuracy_score(ytest, ypred_lr)\n"
   ]
  },
  {
   "cell_type": "code",
   "execution_count": null,
   "metadata": {},
   "outputs": [],
   "source": []
  }
 ],
 "metadata": {
  "kernelspec": {
   "display_name": "Python 3",
   "language": "python",
   "name": "python3"
  },
  "language_info": {
   "codemirror_mode": {
    "name": "ipython",
    "version": 3
   },
   "file_extension": ".py",
   "mimetype": "text/x-python",
   "name": "python",
   "nbconvert_exporter": "python",
   "pygments_lexer": "ipython3",
   "version": "3.8.5"
  },
  "toc": {
   "base_numbering": 1,
   "nav_menu": {},
   "number_sections": true,
   "sideBar": true,
   "skip_h1_title": false,
   "title_cell": "Table of Contents",
   "title_sidebar": "Contents",
   "toc_cell": false,
   "toc_position": {
    "height": "calc(100% - 180px)",
    "left": "10px",
    "top": "150px",
    "width": "384px"
   },
   "toc_section_display": true,
   "toc_window_display": true
  }
 },
 "nbformat": 4,
 "nbformat_minor": 4
}
